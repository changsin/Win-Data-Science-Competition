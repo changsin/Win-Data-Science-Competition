{
  "nbformat": 4,
  "nbformat_minor": 0,
  "metadata": {
    "colab": {
      "name": "Untitled8.ipynb",
      "provenance": [],
      "authorship_tag": "ABX9TyNnnJ/xE9IOhxy22acx9XpV",
      "include_colab_link": true
    },
    "kernelspec": {
      "name": "python3",
      "display_name": "Python 3"
    }
  },
  "cells": [
    {
      "cell_type": "markdown",
      "metadata": {
        "id": "view-in-github",
        "colab_type": "text"
      },
      "source": [
        "<a href=\"https://colab.research.google.com/github/changsin/Win-Data-Science-Competition/blob/main/week3_metrics.ipynb\" target=\"_parent\"><img src=\"https://colab.research.google.com/assets/colab-badge.svg\" alt=\"Open In Colab\"/></a>"
      ]
    },
    {
      "cell_type": "markdown",
      "metadata": {
        "id": "ZL6jU8bz5T2W"
      },
      "source": [
        "Week 3 Practice Quiz for Metrics."
      ]
    },
    {
      "cell_type": "markdown",
      "metadata": {
        "id": "uHV7HaTUIgSl"
      },
      "source": [
        "#LogLoss"
      ]
    },
    {
      "cell_type": "markdown",
      "metadata": {
        "id": "f7_ak6gdArof"
      },
      "source": [
        "## What would be a logloss value for a binary classification task, if we use constant predictor f(x) = 0.5? "
      ]
    },
    {
      "cell_type": "markdown",
      "metadata": {
        "id": "BPevRMW_Ccoc"
      },
      "source": [
        "Log Loss (or Cross Entropy) formula is:"
      ]
    },
    {
      "cell_type": "markdown",
      "metadata": {
        "id": "oq1xWQFcBWAY"
      },
      "source": [
        "$$-\\frac{1}{N}\\sum_{i=1}^N(y_i \\cdot log(p(y_i)) + (1 - y_i) \\cdot log(1 - p(y_i)))$$\n",
        "\n",
        "**p(y_i):** probability of 1 \\\n",
        "**(1 - p(y_i)):** probability of 0 \\\n",
        "y_i: ground truth"
      ]
    },
    {
      "cell_type": "markdown",
      "metadata": {
        "id": "dBdQmN7JCl5u"
      },
      "source": [
        "Since this is a binary classification N = 1 and we can substitute y_i to 0 and 1. "
      ]
    },
    {
      "cell_type": "code",
      "metadata": {
        "colab": {
          "base_uri": "https://localhost:8080/"
        },
        "id": "sCXmWJ6DAZwp",
        "outputId": "ad7b0e06-8db0-4c48-b267-64cb5c799e0a"
      },
      "source": [
        "import numpy as np\n",
        "\n",
        "N = 2\n",
        "\n",
        "yis = [0, 1]\n",
        "f = 0.5\n",
        "\n",
        "def logloss(f, yis):\n",
        "  sum = 0\n",
        "  for yi in yis:\n",
        "    sum += (yi * np.log(f)) + (1 - yi) * np.log(1 - f)\n",
        "  return -sum/len(yis)\n",
        "\n",
        "logloss(f, yis)\n",
        "\n",
        "# logloss = (1/N) * sum(-y*log(f)-(1-y)*log(1-f))\n",
        "# logloss\n",
        "\n",
        "# logloss(y=0) = -(1-0)*log(1-f) = -log(f)\n",
        "# logloss(y=1) = -1*log(f) = -log(f)\n",
        "# # That is either ground true y is 0 or 1 the cost is -log(f)\n",
        "# logloss = (1/N) * N * (-log(f)) = -log(f) = -log(5) = 0.69315"
      ],
      "execution_count": 27,
      "outputs": [
        {
          "output_type": "execute_result",
          "data": {
            "text/plain": [
              "0.6931471805599453"
            ]
          },
          "metadata": {
            "tags": []
          },
          "execution_count": 27
        }
      ]
    },
    {
      "cell_type": "markdown",
      "metadata": {
        "id": "rflRZ5c2Iq3B"
      },
      "source": [
        "## Suppose we solve a binary classification task and our solution is scores with logloss. What predictions are more preferable in terms of logloss if true labels are y_true =  [0, 0, 0, 0]."
      ]
    },
    {
      "cell_type": "code",
      "metadata": {
        "colab": {
          "base_uri": "https://localhost:8080/"
        },
        "id": "BcJIVHEmI6sL",
        "outputId": "9e7da31b-588e-45fb-9bd4-cd9d5bf036c3"
      },
      "source": [
        "y_true = np.array([0, 0, 0, 0])\n",
        "y_pred1 = np.array([0.4, 0.5, 0.5, 0.6])\n",
        "y_pred2 = np.array([0, 0, 0, 1])\n",
        "y_pred3 = np.array([0.5, 0.5, 0.5, 0.5])\n",
        "\n",
        "def logloss(y_preds, y_gt):\n",
        "  # sum = 0\n",
        "  # for yp, yi in zip(y_preds, y_gt):\n",
        "  #   print(\"{} {}\".format(yp, yi))\n",
        "  #   sum = sum + (yi * np.log(yp)) + (1 - yi) * np.log(1 - yp)\n",
        "  # return -sum/len(yis)\n",
        "  loss1 = (np.multiply(y_gt, np.log(y_preds))).sum()\n",
        "  loss0 = (np.multiply((1 - y_gt), np.log(1 - y_preds))).sum()\n",
        "  print(len(y_gt))\n",
        "  return -(loss1 + loss0)/len(y_gt)\n",
        "\n",
        "print(logloss(y_pred1, y_true))\n",
        "print(logloss(y_pred2, y_true))\n",
        "print(logloss(y_pred3, y_true))"
      ],
      "execution_count": 41,
      "outputs": [
        {
          "output_type": "stream",
          "text": [
            "4\n",
            "0.7033526791900091\n",
            "4\n",
            "nan\n",
            "4\n",
            "0.6931471805599453\n"
          ],
          "name": "stdout"
        },
        {
          "output_type": "stream",
          "text": [
            "/usr/local/lib/python3.6/dist-packages/ipykernel_launcher.py:12: RuntimeWarning: divide by zero encountered in log\n",
            "  if sys.path[0] == '':\n",
            "/usr/local/lib/python3.6/dist-packages/ipykernel_launcher.py:12: RuntimeWarning: invalid value encountered in multiply\n",
            "  if sys.path[0] == '':\n",
            "/usr/local/lib/python3.6/dist-packages/ipykernel_launcher.py:13: RuntimeWarning: divide by zero encountered in log\n",
            "  del sys.path[0]\n"
          ],
          "name": "stderr"
        }
      ]
    },
    {
      "cell_type": "markdown",
      "metadata": {
        "id": "woZ3JBOp5fPx"
      },
      "source": [
        "# AUC\n",
        "## How to calculate AUC"
      ]
    },
    {
      "cell_type": "code",
      "metadata": {
        "id": "xW8b9XVo42v9"
      },
      "source": [
        "from sklearn.metrics import roc_curve, roc_auc_score\n",
        "from matplotlib import pyplot"
      ],
      "execution_count": null,
      "outputs": []
    },
    {
      "cell_type": "code",
      "metadata": {
        "colab": {
          "base_uri": "https://localhost:8080/"
        },
        "id": "gI11gOba4q5Z",
        "outputId": "de88c4b6-1aa3-4159-b933-d6da7cb2f3bb"
      },
      "source": [
        "y_test = [1, 0, 1, 1, 1, 0, 0]\n",
        "pred_prob1 = [0.39, 0.52, 0.91, 0.85, 0.49, 0.02, 0.44]\n",
        "\n",
        "# roc curve for models\n",
        "fpr1, tpr1, thresh1 = roc_curve(y_test, pred_prob1, pos_label=1)\n",
        "\n",
        "# roc curve for tpr = fpr \n",
        "random_probs = [0 for i in range(len(y_test))]\n",
        "p_fpr, p_tpr, threshold = roc_curve(y_test, random_probs, pos_label=1)\n",
        "score = roc_auc_score(y_test, pred_prob1)\n",
        "score"
      ],
      "execution_count": 1,
      "outputs": [
        {
          "output_type": "execute_result",
          "data": {
            "text/plain": [
              "0.75"
            ]
          },
          "metadata": {
            "tags": []
          },
          "execution_count": 1
        }
      ]
    },
    {
      "cell_type": "markdown",
      "metadata": {
        "id": "Kt2BSvqJ5qcn"
      },
      "source": [
        "Here is how you can plot the AUC."
      ]
    },
    {
      "cell_type": "code",
      "metadata": {
        "colab": {
          "base_uri": "https://localhost:8080/",
          "height": 279
        },
        "id": "BHRq_pqN5JRF",
        "outputId": "dbc48496-cbdc-4063-c2f4-7b460d81bc48"
      },
      "source": [
        "\n",
        "pyplot.plot(p_fpr, p_tpr, linestyle='--', label='Baseline')\n",
        "pyplot.plot(fpr1, tpr1, marker='.', label='Predictions')\n",
        "# axis labels\n",
        "pyplot.xlabel('False Positive Rate')\n",
        "pyplot.ylabel('True Positive Rate')\n",
        "# show the legend\n",
        "pyplot.legend()\n",
        "# show the plot\n",
        "pyplot.show()"
      ],
      "execution_count": 3,
      "outputs": [
        {
          "output_type": "display_data",
          "data": {
            "image/png": "[encoded data removed]",
            "text/plain": [
              "<Figure size 432x288 with 1 Axes>"
            ]
          },
          "metadata": {
            "tags": [],
            "needs_background": "light"
          }
        }
      ]
    },
    {
      "cell_type": "code",
      "metadata": {
        "id": "RJRIFOfH5Kvw"
      },
      "source": [
        ""
      ],
      "execution_count": null,
      "outputs": []
    }
  ]
}