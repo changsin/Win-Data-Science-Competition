{
  "nbformat": 4,
  "nbformat_minor": 0,
  "metadata": {
    "colab": {
      "name": "Untitled7.ipynb",
      "provenance": [],
      "authorship_tag": "ABX9TyMHo1TaFOd1EA5hk0yRAfq4",
      "include_colab_link": true
    },
    "kernelspec": {
      "name": "python3",
      "display_name": "Python 3"
    }
  },
  "cells": [
    {
      "cell_type": "markdown",
      "metadata": {
        "id": "view-in-github",
        "colab_type": "text"
      },
      "source": [
        "<a href=\"https://colab.research.google.com/github/changsin/Win-Data-Science-Competition/blob/main/data_leak.ipynb\" target=\"_parent\"><img src=\"https://colab.research.google.com/assets/colab-badge.svg\" alt=\"Open In Colab\"/></a>"
      ]
    },
    {
      "cell_type": "markdown",
      "metadata": {
        "id": "jBXe993H2LKd"
      },
      "source": [
        "This notebook is a playground for Coursera \"How to Win a Data Science Competition\" Week 2 Data Leak programming assignment. The idea was to use the dot product of the incidence matrix as similarity measures between two images. By building a small sample, I was hoping to understand how the incidence matrix is the basis for similarity measures. So far, I still do not quite understand how they are related."
      ]
    },
    {
      "cell_type": "code",
      "metadata": {
        "id": "u7Tq_CnZm6uH"
      },
      "source": [
        "import numpy as np\n",
        "import pandas as pd\n",
        "import scipy.sparse"
      ],
      "execution_count": 1,
      "outputs": []
    },
    {
      "cell_type": "code",
      "metadata": {
        "colab": {
          "base_uri": "https://localhost:8080/",
          "height": 142
        },
        "id": "knzozZMunB3a",
        "outputId": "f42d00f0-c7eb-4c55-e97f-8b4adbbd3d87"
      },
      "source": [
        "np_data = np.array([[0, 0, 3],\n",
        "                    [1, 1, 1],\n",
        "                    [2, 2, 3]])\n",
        "\n",
        "\n",
        "test = pd.DataFrame(np_data, columns=[\"pairId\", \"FirstId\", \"SecondId\"])\n",
        "test\n",
        "\n",
        "# PairId  FirstId1  SecondId\n",
        "# 1       0         3\n",
        "# 2       1         1\n",
        "# 3       2         3"
      ],
      "execution_count": 50,
      "outputs": [
        {
          "output_type": "execute_result",
          "data": {
            "text/html": [
              "<div>\n",
              "<style scoped>\n",
              "    .dataframe tbody tr th:only-of-type {\n",
              "        vertical-align: middle;\n",
              "    }\n",
              "\n",
              "    .dataframe tbody tr th {\n",
              "        vertical-align: top;\n",
              "    }\n",
              "\n",
              "    .dataframe thead th {\n",
              "        text-align: right;\n",
              "    }\n",
              "</style>\n",
              "<table border=\"1\" class=\"dataframe\">\n",
              "  <thead>\n",
              "    <tr style=\"text-align: right;\">\n",
              "      <th></th>\n",
              "      <th>pairId</th>\n",
              "      <th>FirstId</th>\n",
              "      <th>SecondId</th>\n",
              "    </tr>\n",
              "  </thead>\n",
              "  <tbody>\n",
              "    <tr>\n",
              "      <th>0</th>\n",
              "      <td>0</td>\n",
              "      <td>0</td>\n",
              "      <td>3</td>\n",
              "    </tr>\n",
              "    <tr>\n",
              "      <th>1</th>\n",
              "      <td>1</td>\n",
              "      <td>1</td>\n",
              "      <td>1</td>\n",
              "    </tr>\n",
              "    <tr>\n",
              "      <th>2</th>\n",
              "      <td>2</td>\n",
              "      <td>2</td>\n",
              "      <td>3</td>\n",
              "    </tr>\n",
              "  </tbody>\n",
              "</table>\n",
              "</div>"
            ],
            "text/plain": [
              "   pairId  FirstId  SecondId\n",
              "0       0        0         3\n",
              "1       1        1         1\n",
              "2       2        2         3"
            ]
          },
          "metadata": {
            "tags": []
          },
          "execution_count": 50
        }
      ]
    },
    {
      "cell_type": "code",
      "metadata": {
        "colab": {
          "base_uri": "https://localhost:8080/"
        },
        "id": "Jdk6aEtGpPl8",
        "outputId": "d8603290-18df-4b31-c863-1b14a0e38b22"
      },
      "source": [
        "# a workaround is to make them np array and then concat\n",
        "np1 = test['FirstId'].values\n",
        "np2 = test['SecondId'].values\n",
        "np1 = np1.reshape(-1)\n",
        "np2 = np2.reshape(-1)\n",
        "\n",
        "pairs1 = pd.DataFrame({\"FirstId\": np1, \"SecondId\": np2})\n",
        "pairs2 = pd.DataFrame({\"FirstId\": np2, \"SecondId\": np1})\n",
        "\n",
        "pairs_combined = pd.concat([pairs1, pairs2])\n",
        "\n",
        "print(\"# of combined pairs: {}\".format(len(pairs_combined)))\n",
        "print(\"# of duplicate pairs: {}\".format(pairs_combined.duplicated().sum()))\n",
        "\n",
        "# # pairs_combined.head()\n",
        "pairs_combined = pairs_combined.drop_duplicates()\n",
        "len(pairs_combined)\n",
        "# print(pairs_combined.head())\n",
        "\n",
        "ones_combined = np.ones(len(pairs_combined))\n",
        "\n",
        "print(type(pairs_combined[\"FirstId\"]))\n",
        "print(type(pairs_combined[\"SecondId\"]))\n",
        "# print(pairs_combined.head())\n",
        "print(len(ones_combined))\n",
        "\n",
        "# YOUR CODE GOES HERE (but probably you will need to write few more lines before)\n",
        "inc_mat = scipy.sparse.coo_matrix((ones_combined, (pairs_combined[\"FirstId\"], pairs_combined[\"SecondId\"])))\n",
        "\n",
        "print(inc_mat)"
      ],
      "execution_count": 51,
      "outputs": [
        {
          "output_type": "stream",
          "text": [
            "# of combined pairs: 6\n",
            "# of duplicate pairs: 1\n",
            "<class 'pandas.core.series.Series'>\n",
            "<class 'pandas.core.series.Series'>\n",
            "5\n",
            "  (0, 3)\t1.0\n",
            "  (1, 1)\t1.0\n",
            "  (2, 3)\t1.0\n",
            "  (3, 0)\t1.0\n",
            "  (3, 2)\t1.0\n"
          ],
          "name": "stdout"
        }
      ]
    },
    {
      "cell_type": "code",
      "metadata": {
        "colab": {
          "base_uri": "https://localhost:8080/"
        },
        "id": "vTD698QVpgsV",
        "outputId": "b172e8c6-4614-491c-8126-cf542dd59482"
      },
      "source": [
        "inc_mat = inc_mat.tocsr()\n",
        "print(inc_mat)"
      ],
      "execution_count": 52,
      "outputs": [
        {
          "output_type": "stream",
          "text": [
            "  (0, 3)\t1.0\n",
            "  (1, 1)\t1.0\n",
            "  (2, 3)\t1.0\n",
            "  (3, 0)\t1.0\n",
            "  (3, 2)\t1.0\n"
          ],
          "name": "stdout"
        }
      ]
    },
    {
      "cell_type": "code",
      "metadata": {
        "colab": {
          "base_uri": "https://localhost:8080/"
        },
        "id": "lJkXWBFrphdD",
        "outputId": "4d0da2bd-999c-43bd-f838-e55488d5ea17"
      },
      "source": [
        "rows_FirstId   = inc_mat[test[\"FirstId\"].values]\n",
        "rows_SecondId  = inc_mat[test[\"SecondId\"].values]\n",
        "\n",
        "print(\"FirstId\")\n",
        "print(rows_FirstId)\n",
        "print(\"SecondId\")\n",
        "print(rows_SecondId)"
      ],
      "execution_count": 53,
      "outputs": [
        {
          "output_type": "stream",
          "text": [
            "FirstId\n",
            "  (0, 3)\t1.0\n",
            "  (1, 1)\t1.0\n",
            "  (2, 3)\t1.0\n",
            "SecondId\n",
            "  (0, 0)\t1.0\n",
            "  (0, 2)\t1.0\n",
            "  (1, 1)\t1.0\n",
            "  (2, 0)\t1.0\n",
            "  (2, 2)\t1.0\n"
          ],
          "name": "stdout"
        }
      ]
    },
    {
      "cell_type": "code",
      "metadata": {
        "colab": {
          "base_uri": "https://localhost:8080/"
        },
        "id": "2IFbhgmgpjzi",
        "outputId": "db74bd58-0249-4776-8b64-bac00ba5dec6"
      },
      "source": [
        "f = rows_FirstId.multiply(rows_SecondId).sum(axis=1)\n",
        "# squeeze() doesn't work so converting to array\n",
        "f = np.squeeze(np.asarray(f))\n",
        "print(f.shape)\n",
        "print(type(f))\n",
        "print(f)"
      ],
      "execution_count": 54,
      "outputs": [
        {
          "output_type": "stream",
          "text": [
            "(3,)\n",
            "<class 'numpy.ndarray'>\n",
            "[0. 1. 0.]\n"
          ],
          "name": "stdout"
        }
      ]
    },
    {
      "cell_type": "code",
      "metadata": {
        "id": "CEkDatX0pnJV"
      },
      "source": [
        "unique, counts = np.unique(f, return_counts=True)"
      ],
      "execution_count": 55,
      "outputs": []
    },
    {
      "cell_type": "code",
      "metadata": {
        "colab": {
          "base_uri": "https://localhost:8080/"
        },
        "id": "JIUAmiSnpp5U",
        "outputId": "d8c333c3-9399-483a-ddab-94835e5b7b1f"
      },
      "source": [
        "unique"
      ],
      "execution_count": 56,
      "outputs": [
        {
          "output_type": "execute_result",
          "data": {
            "text/plain": [
              "array([0., 1.])"
            ]
          },
          "metadata": {
            "tags": []
          },
          "execution_count": 56
        }
      ]
    },
    {
      "cell_type": "code",
      "metadata": {
        "colab": {
          "base_uri": "https://localhost:8080/"
        },
        "id": "1qDnMZD9qOBS",
        "outputId": "e94d2527-72d2-4958-ec51-dc7a816ae314"
      },
      "source": [
        "counts"
      ],
      "execution_count": 57,
      "outputs": [
        {
          "output_type": "execute_result",
          "data": {
            "text/plain": [
              "array([2, 1])"
            ]
          },
          "metadata": {
            "tags": []
          },
          "execution_count": 57
        }
      ]
    },
    {
      "cell_type": "code",
      "metadata": {
        "id": "tPgxjUKqqPsY"
      },
      "source": [
        ""
      ],
      "execution_count": null,
      "outputs": []
    }
  ]
}